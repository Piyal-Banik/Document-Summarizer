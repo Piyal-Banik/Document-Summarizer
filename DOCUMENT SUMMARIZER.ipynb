{
 "cells": [
  {
   "cell_type": "code",
   "execution_count": 1,
   "metadata": {
    "id": "Tq8MAIuJEK4O"
   },
   "outputs": [],
   "source": [
    "import nltk"
   ]
  },
  {
   "cell_type": "code",
   "execution_count": 3,
   "metadata": {
    "colab": {
     "base_uri": "https://localhost:8080/"
    },
    "id": "4wspCW53EY_l",
    "outputId": "5d78b765-63ad-4f33-99fc-2296ece3cd02",
    "scrolled": true
   },
   "outputs": [
    {
     "data": {
      "text/plain": [
       "['\\ufeffEnzo Ferrari was not initially interested in the idea of producing road cars when\\nhe formed Scuderia Ferrari in 1929, with headquarters in Modena. Scuderia Ferrari\\n(pronounced [skudeˈriːa]) literally means &quot;Ferrari Stable&quot; and is usually used to\\nmean &quot;Team Ferrari.&quot; Ferrari bought,[citation needed] prepared, and fielded Alfa\\nRomeo racing cars for gentleman drivers, functioning as the racing division of\\nAlfa Romeo. In 1933, Alfa Romeo withdrew its in-house racing team and Scuderia\\nFerrari took over as its works team:[1] the Scuderia received Alfa&#39;s Grand Prix\\ncars of the latest specifications and fielded many famous drivers such as Tazio\\nNuvolari and Achille Varzi. In 1938, Alfa Romeo brought its racing operation again\\nin-house, forming Alfa Corse in Milan and hired Enzo Ferrari as manager of the new\\nracing department; therefore the Scuderia Ferrari was disbanded.[1]\\nThe first vehicle made with the Ferrari name was the 125 S. Only two of this small\\ntwo-seat sports/racing V12 car were made. In 1949, the 166 Inter was introduced\\nmarking the company&#39;s significant move into the grand touring road car market. The\\nfirst 166 Inter was a four-seat (2+2) berlinetta coupe with body work designed by\\nCarrozzeria Touring Superleggera. Road cars quickly became the bulk of Ferrari\\nsales.\\nThe early Ferrari cars typically featured bodywork designed and customised by\\nindependent coachbuilders such as Pininfarina, Scaglietti, Zagato, Vignale and\\nBertone.\\nThe original road cars were typically two-seat front-engined V12s. This platform\\nserved Ferrari very well through the 1950s and 1960s. In 1968 the Dino was\\nintroduced as the first two-seat rear mid-engined Ferrari. The Dino was produced\\nprimarily with a V6 engine, however, a V8 model was also developed. This rear mid-\\nengine layout would go on to be used in many Ferraris of the 1980s, 1990s and to\\nthe present day. Current road cars typically use V8 or V12 engines, with V8 models\\nmaking up well over half of the marque&#39;s total production. Historically, Ferrari\\nhas also produced flat 12 engines.\\nIn September 1939, Ferrari left Alfa Romeo under the provision he would not use\\nthe Ferrari name in association with races or racing cars for at least four\\nyears.[1] A few days later he founded Auto Avio Costruzioni, headquartered in the\\nfacilities of the old Scuderia Ferrari.[1] The new company ostensibly produced\\nmachine tools and aircraft accessories. In 1940, Ferrari produced a race car – the\\nTipo 815, based on a Fiat platform. It was the first Ferrari car and debuted at\\nthe 1940 Mille Miglia, but due to World War II it saw little competition. In 1943,\\nthe Ferrari factory moved to Maranello, where it has remained ever since. The\\nfactory was bombed by the Allies and subsequently rebuilt including works for road\\ncar production.\\n125 S replica\\n\\n\\n166 MM Touring Barchetta\\nThe first series produced Ferrari, the 1958 250 GT Coupé\\nThe first Ferrari-badged car was the 1947 125 S, powered by a 1.5 L V12 engine;[1]\\nEnzo Ferrari reluctantly built and sold his automobiles to fund Scuderia\\nFerrari.[18]\\nThe Scuderia Ferrari name was resurrected to denote the factory racing cars and\\ndistinguish them from those fielded by customer teams.\\nIn 1960 the company was restructured as a public corporation under the name SEFAC\\nS.p.A. (Società Esercizio Fabbriche Automobili e Corse).[19]\\nEarly in 1969, Fiat took a 50% stake in Ferrari. An immediate result was an\\nincrease in available investment funds, and work started at once on a factory\\nextension intended to transfer production from Fiat&#39;s Turin plant of the Ferrari\\nengined Fiat Dino. New model investment further up in the Ferrari range also\\nreceived a boost.\\nIn 1988, Enzo Ferrari oversaw the launch of the Ferrari F40, the last new Ferrari\\nlaunched before his death later that year. In 1989, the company was renamed\\nFerrari S.p.A.[19] From 2002 to 2004, Ferrari produced the Enzo, their fastest\\nmodel at the time, which was introduced and named in honor of the company&#39;s\\nfounder, Enzo Ferrari. It was to be called the F60, continuing on from the F40 and\\nF50, but Ferrari was so pleased with it, they called it the Enzo instead. It was\\ninitially offered to loyal and recurring customers, each of the 399 made (minus\\nthe 400th which was donated to the Vatican for charity) had a price tag of\\n$650,000 apiece (equivalent to £400,900).\\nOn 15 September 2012, 964 Ferrari cars worth over $162 million (£99.95 million)\\nattended the Ferrari Driving Days event at Silverstone Circuit and paraded round\\nthe Silverstone Circuit setting a world record.[20]\\nFerrari&#39;s former CEO and Chairman, Luca di Montezemolo, resigned from the company\\nafter 23 years, who was succeeded by Amedeo Felisa and finally on 3 May 2016\\nAmedeo resigned and was succeeded by Sergio Marchionne, CEO and Chairman of Fiat\\nChrysler Automobiles, Ferrari&#39;s parent company.[21] In July 2018, Marchionne was\\nreplaced by board member Louis Camilleri as CEO and by John Elkann as chairman.']"
      ]
     },
     "execution_count": 3,
     "metadata": {},
     "output_type": "execute_result"
    }
   ],
   "source": [
    "files=[]\n",
    "content=open(\"/content/case study - CAC1.txt\",\"r\")\n",
    "files.append(content.read())\n",
    "files"
   ]
  },
  {
   "cell_type": "code",
   "execution_count": 4,
   "metadata": {
    "id": "leiisTpeFHfu"
   },
   "outputs": [],
   "source": [
    "files=files[0]"
   ]
  },
  {
   "cell_type": "code",
   "execution_count": 5,
   "metadata": {
    "colab": {
     "base_uri": "https://localhost:8080/",
     "height": 140
    },
    "id": "FUGJqZEyEqSk",
    "outputId": "815cc512-6c34-4638-e9f7-fd5dd736dd71",
    "scrolled": true
   },
   "outputs": [
    {
     "data": {
      "application/vnd.google.colaboratory.intrinsic+json": {
       "type": "string"
      },
      "text/plain": [
       "'\\ufeffEnzo Ferrari was not initially interested in the idea of producing road cars when he formed Scuderia Ferrari in 1929, with headquarters in Modena. Scuderia Ferrari (pronounced [skudeˈriːa]) literally means &quot;Ferrari Stable&quot; and is usually used to mean &quot;Team Ferrari.&quot; Ferrari bought,[citation needed] prepared, and fielded Alfa Romeo racing cars for gentleman drivers, functioning as the racing division of Alfa Romeo. In 1933, Alfa Romeo withdrew its in-house racing team and Scuderia Ferrari took over as its works team:[1] the Scuderia received Alfa&#39;s Grand Prix cars of the latest specifications and fielded many famous drivers such as Tazio Nuvolari and Achille Varzi. In 1938, Alfa Romeo brought its racing operation again in-house, forming Alfa Corse in Milan and hired Enzo Ferrari as manager of the new racing department; therefore the Scuderia Ferrari was disbanded.[1] The first vehicle made with the Ferrari name was the 125 S. Only two of this small two-seat sports/racing V12 car were made. In 1949, the 166 Inter was introduced marking the company&#39;s significant move into the grand touring road car market. The first 166 Inter was a four-seat (2+2) berlinetta coupe with body work designed by Carrozzeria Touring Superleggera. Road cars quickly became the bulk of Ferrari sales. The early Ferrari cars typically featured bodywork designed and customised by independent coachbuilders such as Pininfarina, Scaglietti, Zagato, Vignale and Bertone. The original road cars were typically two-seat front-engined V12s. This platform served Ferrari very well through the 1950s and 1960s. In 1968 the Dino was introduced as the first two-seat rear mid-engined Ferrari. The Dino was produced primarily with a V6 engine, however, a V8 model was also developed. This rear mid- engine layout would go on to be used in many Ferraris of the 1980s, 1990s and to the present day. Current road cars typically use V8 or V12 engines, with V8 models making up well over half of the marque&#39;s total production. Historically, Ferrari has also produced flat 12 engines. In September 1939, Ferrari left Alfa Romeo under the provision he would not use the Ferrari name in association with races or racing cars for at least four years.[1] A few days later he founded Auto Avio Costruzioni, headquartered in the facilities of the old Scuderia Ferrari.[1] The new company ostensibly produced machine tools and aircraft accessories. In 1940, Ferrari produced a race car – the Tipo 815, based on a Fiat platform. It was the first Ferrari car and debuted at the 1940 Mille Miglia, but due to World War II it saw little competition. In 1943, the Ferrari factory moved to Maranello, where it has remained ever since. The factory was bombed by the Allies and subsequently rebuilt including works for road car production. 125 S replica   166 MM Touring Barchetta The first series produced Ferrari, the 1958 250 GT Coupé The first Ferrari-badged car was the 1947 125 S, powered by a 1.5 L V12 engine;[1] Enzo Ferrari reluctantly built and sold his automobiles to fund Scuderia Ferrari.[18] The Scuderia Ferrari name was resurrected to denote the factory racing cars and distinguish them from those fielded by customer teams. In 1960 the company was restructured as a public corporation under the name SEFAC S.p.A. (Società Esercizio Fabbriche Automobili e Corse).[19] Early in 1969, Fiat took a 50% stake in Ferrari. An immediate result was an increase in available investment funds, and work started at once on a factory extension intended to transfer production from Fiat&#39;s Turin plant of the Ferrari engined Fiat Dino. New model investment further up in the Ferrari range also received a boost. In 1988, Enzo Ferrari oversaw the launch of the Ferrari F40, the last new Ferrari launched before his death later that year. In 1989, the company was renamed Ferrari S.p.A.[19] From 2002 to 2004, Ferrari produced the Enzo, their fastest model at the time, which was introduced and named in honor of the company&#39;s founder, Enzo Ferrari. It was to be called the F60, continuing on from the F40 and F50, but Ferrari was so pleased with it, they called it the Enzo instead. It was initially offered to loyal and recurring customers, each of the 399 made (minus the 400th which was donated to the Vatican for charity) had a price tag of $650,000 apiece (equivalent to £400,900). On 15 September 2012, 964 Ferrari cars worth over $162 million (£99.95 million) attended the Ferrari Driving Days event at Silverstone Circuit and paraded round the Silverstone Circuit setting a world record.[20] Ferrari&#39;s former CEO and Chairman, Luca di Montezemolo, resigned from the company after 23 years, who was succeeded by Amedeo Felisa and finally on 3 May 2016 Amedeo resigned and was succeeded by Sergio Marchionne, CEO and Chairman of Fiat Chrysler Automobiles, Ferrari&#39;s parent company.[21] In July 2018, Marchionne was replaced by board member Louis Camilleri as CEO and by John Elkann as chairman.'"
      ]
     },
     "execution_count": 5,
     "metadata": {},
     "output_type": "execute_result"
    }
   ],
   "source": [
    "files=files.replace(\"\\n\",\" \")\n",
    "files"
   ]
  },
  {
   "cell_type": "code",
   "execution_count": 6,
   "metadata": {
    "colab": {
     "base_uri": "https://localhost:8080/",
     "height": 140
    },
    "id": "kSnEUCv6GDmh",
    "outputId": "d6d28f11-b01a-4a4c-e9da-ddb060e7fed9",
    "scrolled": true
   },
   "outputs": [
    {
     "data": {
      "application/vnd.google.colaboratory.intrinsic+json": {
       "type": "string"
      },
      "text/plain": [
       "'Enzo Ferrari was not initially interested in the idea of producing road cars when he formed Scuderia Ferrari in 1929 with headquarters in Modena. Scuderia Ferrari pronounced skude ri a literally means quot Ferrari Stable quot and is usually used to mean quot Team Ferrari. quot Ferrari bought citation needed prepared and fielded Alfa Romeo racing cars for gentleman drivers functioning as the racing division of Alfa Romeo. In 1933 Alfa Romeo withdrew its in house racing team and Scuderia Ferrari took over as its works team 1 the Scuderia received Alfa 39 s Grand Prix cars of the latest specifications and fielded many famous drivers such as Tazio Nuvolari and Achille Varzi. In 1938 Alfa Romeo brought its racing operation again in house forming Alfa Corse in Milan and hired Enzo Ferrari as manager of the new racing department therefore the Scuderia Ferrari was disbanded. 1 The first vehicle made with the Ferrari name was the 125 S. Only two of this small two seat sports racing V12 car were made. In 1949 the 166 Inter was introduced marking the company 39 s significant move into the grand touring road car market. The first 166 Inter was a four seat 2 2 berlinetta coupe with body work designed by Carrozzeria Touring Superleggera. Road cars quickly became the bulk of Ferrari sales. The early Ferrari cars typically featured bodywork designed and customised by independent coachbuilders such as Pininfarina Scaglietti Zagato Vignale and Bertone. The original road cars were typically two seat front engined V12s. This platform served Ferrari very well through the 1950s and 1960s. In 1968 the Dino was introduced as the first two seat rear mid engined Ferrari. The Dino was produced primarily with a V6 engine however a V8 model was also developed. This rear mid engine layout would go on to be used in many Ferraris of the 1980s 1990s and to the present day. Current road cars typically use V8 or V12 engines with V8 models making up well over half of the marque 39 s total production. Historically Ferrari has also produced flat 12 engines. In September 1939 Ferrari left Alfa Romeo under the provision he would not use the Ferrari name in association with races or racing cars for at least four years. 1 A few days later he founded Auto Avio Costruzioni headquartered in the facilities of the old Scuderia Ferrari. 1 The new company ostensibly produced machine tools and aircraft accessories. In 1940 Ferrari produced a race car the Tipo 815 based on a Fiat platform. It was the first Ferrari car and debuted at the 1940 Mille Miglia but due to World War II it saw little competition. In 1943 the Ferrari factory moved to Maranello where it has remained ever since. The factory was bombed by the Allies and subsequently rebuilt including works for road car production. 125 S replica 166 MM Touring Barchetta The first series produced Ferrari the 1958 250 GT Coup The first Ferrari badged car was the 1947 125 S powered by a 1.5 L V12 engine 1 Enzo Ferrari reluctantly built and sold his automobiles to fund Scuderia Ferrari. 18 The Scuderia Ferrari name was resurrected to denote the factory racing cars and distinguish them from those fielded by customer teams. In 1960 the company was restructured as a public corporation under the name SEFAC S.p.A. Societ Esercizio Fabbriche Automobili e Corse . 19 Early in 1969 Fiat took a 50 stake in Ferrari. An immediate result was an increase in available investment funds and work started at once on a factory extension intended to transfer production from Fiat 39 s Turin plant of the Ferrari engined Fiat Dino. New model investment further up in the Ferrari range also received a boost. In 1988 Enzo Ferrari oversaw the launch of the Ferrari F40 the last new Ferrari launched before his death later that year. In 1989 the company was renamed Ferrari S.p.A. 19 From 2002 to 2004 Ferrari produced the Enzo their fastest model at the time which was introduced and named in honor of the company 39 s founder Enzo Ferrari. It was to be called the F60 continuing on from the F40 and F50 but Ferrari was so pleased with it they called it the Enzo instead. It was initially offered to loyal and recurring customers each of the 399 made minus the 400th which was donated to the Vatican for charity had a price tag of 650 000 apiece equivalent to 400 900 . On 15 September 2012 964 Ferrari cars worth over 162 million 99.95 million attended the Ferrari Driving Days event at Silverstone Circuit and paraded round the Silverstone Circuit setting a world record. 20 Ferrari 39 s former CEO and Chairman Luca di Montezemolo resigned from the company after 23 years who was succeeded by Amedeo Felisa and finally on 3 May 2016 Amedeo resigned and was succeeded by Sergio Marchionne CEO and Chairman of Fiat Chrysler Automobiles Ferrari 39 s parent company. 21 In July 2018 Marchionne was replaced by board member Louis Camilleri as CEO and by John Elkann as chairman.'"
      ]
     },
     "execution_count": 6,
     "metadata": {},
     "output_type": "execute_result"
    }
   ],
   "source": [
    "import re\n",
    "cleaned_content= re.sub('[^a-zA-Z0-9\\.]', ' ', files)\n",
    "cleaned_content=\" \".join(cleaned_content.split())\n",
    "cleaned_content"
   ]
  },
  {
   "cell_type": "code",
   "execution_count": 7,
   "metadata": {
    "id": "HZ17FhYVHm5u"
   },
   "outputs": [],
   "source": [
    "from nltk.corpus import stopwords"
   ]
  },
  {
   "cell_type": "code",
   "execution_count": 8,
   "metadata": {
    "colab": {
     "base_uri": "https://localhost:8080/"
    },
    "id": "HqbdxeAhGhaU",
    "outputId": "e0d5e3aa-542f-4ea8-c473-5d0e78d104c9",
    "scrolled": true
   },
   "outputs": [
    {
     "data": {
      "text/plain": [
       "['enzo',\n",
       " 'ferrari',\n",
       " 'initially',\n",
       " 'interested',\n",
       " 'idea',\n",
       " 'producing',\n",
       " 'road',\n",
       " 'cars',\n",
       " 'formed',\n",
       " 'scuderia',\n",
       " 'ferrari',\n",
       " 'headquarters',\n",
       " 'modena',\n",
       " 'scuderia',\n",
       " 'ferrari',\n",
       " 'pronounced',\n",
       " 'skude',\n",
       " 'ri',\n",
       " 'literally',\n",
       " 'means',\n",
       " 'quot',\n",
       " 'ferrari',\n",
       " 'stable',\n",
       " 'quot',\n",
       " 'usually',\n",
       " 'used',\n",
       " 'mean',\n",
       " 'quot',\n",
       " 'team',\n",
       " 'ferrari',\n",
       " 'quot',\n",
       " 'ferrari',\n",
       " 'bought',\n",
       " 'citation',\n",
       " 'needed',\n",
       " 'prepared',\n",
       " 'fielded',\n",
       " 'alfa',\n",
       " 'romeo',\n",
       " 'racing',\n",
       " 'cars',\n",
       " 'gentleman',\n",
       " 'drivers',\n",
       " 'functioning',\n",
       " 'racing',\n",
       " 'division',\n",
       " 'alfa',\n",
       " 'romeo',\n",
       " 'alfa',\n",
       " 'romeo',\n",
       " 'withdrew',\n",
       " 'house',\n",
       " 'racing',\n",
       " 'team',\n",
       " 'scuderia',\n",
       " 'ferrari',\n",
       " 'took',\n",
       " 'works',\n",
       " 'team',\n",
       " 'scuderia',\n",
       " 'received',\n",
       " 'alfa',\n",
       " 'grand',\n",
       " 'prix',\n",
       " 'cars',\n",
       " 'latest',\n",
       " 'specifications',\n",
       " 'fielded',\n",
       " 'many',\n",
       " 'famous',\n",
       " 'drivers',\n",
       " 'tazio',\n",
       " 'nuvolari',\n",
       " 'achille',\n",
       " 'varzi',\n",
       " 'alfa',\n",
       " 'romeo',\n",
       " 'brought',\n",
       " 'racing',\n",
       " 'operation',\n",
       " 'house',\n",
       " 'forming',\n",
       " 'alfa',\n",
       " 'corse',\n",
       " 'milan',\n",
       " 'hired',\n",
       " 'enzo',\n",
       " 'ferrari',\n",
       " 'manager',\n",
       " 'new',\n",
       " 'racing',\n",
       " 'department',\n",
       " 'therefore',\n",
       " 'scuderia',\n",
       " 'ferrari',\n",
       " 'disbanded',\n",
       " 'first',\n",
       " 'vehicle',\n",
       " 'made',\n",
       " 'ferrari',\n",
       " 'name',\n",
       " 'two',\n",
       " 'small',\n",
       " 'two',\n",
       " 'seat',\n",
       " 'sports',\n",
       " 'racing',\n",
       " 'car',\n",
       " 'made',\n",
       " 'inter',\n",
       " 'introduced',\n",
       " 'marking',\n",
       " 'company',\n",
       " 'significant',\n",
       " 'move',\n",
       " 'grand',\n",
       " 'touring',\n",
       " 'road',\n",
       " 'car',\n",
       " 'market',\n",
       " 'first',\n",
       " 'inter',\n",
       " 'four',\n",
       " 'seat',\n",
       " 'berlinetta',\n",
       " 'coupe',\n",
       " 'body',\n",
       " 'work',\n",
       " 'designed',\n",
       " 'carrozzeria',\n",
       " 'touring',\n",
       " 'superleggera',\n",
       " 'road',\n",
       " 'cars',\n",
       " 'quickly',\n",
       " 'became',\n",
       " 'bulk',\n",
       " 'ferrari',\n",
       " 'sales',\n",
       " 'early',\n",
       " 'ferrari',\n",
       " 'cars',\n",
       " 'typically',\n",
       " 'featured',\n",
       " 'bodywork',\n",
       " 'designed',\n",
       " 'customised',\n",
       " 'independent',\n",
       " 'coachbuilders',\n",
       " 'pininfarina',\n",
       " 'scaglietti',\n",
       " 'zagato',\n",
       " 'vignale',\n",
       " 'bertone',\n",
       " 'original',\n",
       " 'road',\n",
       " 'cars',\n",
       " 'typically',\n",
       " 'two',\n",
       " 'seat',\n",
       " 'front',\n",
       " 'engined',\n",
       " 'platform',\n",
       " 'served',\n",
       " 'ferrari',\n",
       " 'well',\n",
       " 'dino',\n",
       " 'introduced',\n",
       " 'first',\n",
       " 'two',\n",
       " 'seat',\n",
       " 'rear',\n",
       " 'mid',\n",
       " 'engined',\n",
       " 'ferrari',\n",
       " 'dino',\n",
       " 'produced',\n",
       " 'primarily',\n",
       " 'engine',\n",
       " 'however',\n",
       " 'model',\n",
       " 'also',\n",
       " 'developed',\n",
       " 'rear',\n",
       " 'mid',\n",
       " 'engine',\n",
       " 'layout',\n",
       " 'would',\n",
       " 'go',\n",
       " 'used',\n",
       " 'many',\n",
       " 'ferraris',\n",
       " 'present',\n",
       " 'day',\n",
       " 'current',\n",
       " 'road',\n",
       " 'cars',\n",
       " 'typically',\n",
       " 'use',\n",
       " 'engines',\n",
       " 'models',\n",
       " 'making',\n",
       " 'well',\n",
       " 'half',\n",
       " 'marque',\n",
       " 'total',\n",
       " 'production',\n",
       " 'historically',\n",
       " 'ferrari',\n",
       " 'also',\n",
       " 'produced',\n",
       " 'flat',\n",
       " 'engines',\n",
       " 'september',\n",
       " 'ferrari',\n",
       " 'left',\n",
       " 'alfa',\n",
       " 'romeo',\n",
       " 'provision',\n",
       " 'would',\n",
       " 'use',\n",
       " 'ferrari',\n",
       " 'name',\n",
       " 'association',\n",
       " 'races',\n",
       " 'racing',\n",
       " 'cars',\n",
       " 'least',\n",
       " 'four',\n",
       " 'years',\n",
       " 'days',\n",
       " 'later',\n",
       " 'founded',\n",
       " 'auto',\n",
       " 'avio',\n",
       " 'costruzioni',\n",
       " 'headquartered',\n",
       " 'facilities',\n",
       " 'old',\n",
       " 'scuderia',\n",
       " 'ferrari',\n",
       " 'new',\n",
       " 'company',\n",
       " 'ostensibly',\n",
       " 'produced',\n",
       " 'machine',\n",
       " 'tools',\n",
       " 'aircraft',\n",
       " 'accessories',\n",
       " 'ferrari',\n",
       " 'produced',\n",
       " 'race',\n",
       " 'car',\n",
       " 'tipo',\n",
       " 'based',\n",
       " 'fiat',\n",
       " 'platform',\n",
       " 'first',\n",
       " 'ferrari',\n",
       " 'car',\n",
       " 'debuted',\n",
       " 'mille',\n",
       " 'miglia',\n",
       " 'due',\n",
       " 'world',\n",
       " 'war',\n",
       " 'ii',\n",
       " 'saw',\n",
       " 'little',\n",
       " 'competition',\n",
       " 'ferrari',\n",
       " 'factory',\n",
       " 'moved',\n",
       " 'maranello',\n",
       " 'remained',\n",
       " 'ever',\n",
       " 'since',\n",
       " 'factory',\n",
       " 'bombed',\n",
       " 'allies',\n",
       " 'subsequently',\n",
       " 'rebuilt',\n",
       " 'including',\n",
       " 'works',\n",
       " 'road',\n",
       " 'car',\n",
       " 'production',\n",
       " 'replica',\n",
       " 'mm',\n",
       " 'touring',\n",
       " 'barchetta',\n",
       " 'first',\n",
       " 'series',\n",
       " 'produced',\n",
       " 'ferrari',\n",
       " 'gt',\n",
       " 'coup',\n",
       " 'first',\n",
       " 'ferrari',\n",
       " 'badged',\n",
       " 'car',\n",
       " 'powered',\n",
       " 'engine',\n",
       " 'enzo',\n",
       " 'ferrari',\n",
       " 'reluctantly',\n",
       " 'built',\n",
       " 'sold',\n",
       " 'automobiles',\n",
       " 'fund',\n",
       " 'scuderia',\n",
       " 'ferrari',\n",
       " 'scuderia',\n",
       " 'ferrari',\n",
       " 'name',\n",
       " 'resurrected',\n",
       " 'denote',\n",
       " 'factory',\n",
       " 'racing',\n",
       " 'cars',\n",
       " 'distinguish',\n",
       " 'fielded',\n",
       " 'customer',\n",
       " 'teams',\n",
       " 'company',\n",
       " 'restructured',\n",
       " 'public',\n",
       " 'corporation',\n",
       " 'name',\n",
       " 'sefac',\n",
       " 'societ',\n",
       " 'esercizio',\n",
       " 'fabbriche',\n",
       " 'automobili',\n",
       " 'corse',\n",
       " 'early',\n",
       " 'fiat',\n",
       " 'took',\n",
       " 'stake',\n",
       " 'ferrari',\n",
       " 'immediate',\n",
       " 'result',\n",
       " 'increase',\n",
       " 'available',\n",
       " 'investment',\n",
       " 'funds',\n",
       " 'work',\n",
       " 'started',\n",
       " 'factory',\n",
       " 'extension',\n",
       " 'intended',\n",
       " 'transfer',\n",
       " 'production',\n",
       " 'fiat',\n",
       " 'turin',\n",
       " 'plant',\n",
       " 'ferrari',\n",
       " 'engined',\n",
       " 'fiat',\n",
       " 'dino',\n",
       " 'new',\n",
       " 'model',\n",
       " 'investment',\n",
       " 'ferrari',\n",
       " 'range',\n",
       " 'also',\n",
       " 'received',\n",
       " 'boost',\n",
       " 'enzo',\n",
       " 'ferrari',\n",
       " 'oversaw',\n",
       " 'launch',\n",
       " 'ferrari',\n",
       " 'last',\n",
       " 'new',\n",
       " 'ferrari',\n",
       " 'launched',\n",
       " 'death',\n",
       " 'later',\n",
       " 'year',\n",
       " 'company',\n",
       " 'renamed',\n",
       " 'ferrari',\n",
       " 'ferrari',\n",
       " 'produced',\n",
       " 'enzo',\n",
       " 'fastest',\n",
       " 'model',\n",
       " 'time',\n",
       " 'introduced',\n",
       " 'named',\n",
       " 'honor',\n",
       " 'company',\n",
       " 'founder',\n",
       " 'enzo',\n",
       " 'ferrari',\n",
       " 'called',\n",
       " 'continuing',\n",
       " 'ferrari',\n",
       " 'pleased',\n",
       " 'called',\n",
       " 'enzo',\n",
       " 'instead',\n",
       " 'initially',\n",
       " 'offered',\n",
       " 'loyal',\n",
       " 'recurring',\n",
       " 'customers',\n",
       " 'made',\n",
       " 'minus',\n",
       " 'th',\n",
       " 'donated',\n",
       " 'vatican',\n",
       " 'charity',\n",
       " 'price',\n",
       " 'tag',\n",
       " 'apiece',\n",
       " 'equivalent',\n",
       " 'september',\n",
       " 'ferrari',\n",
       " 'cars',\n",
       " 'worth',\n",
       " 'million',\n",
       " 'million',\n",
       " 'attended',\n",
       " 'ferrari',\n",
       " 'driving',\n",
       " 'days',\n",
       " 'event',\n",
       " 'silverstone',\n",
       " 'circuit',\n",
       " 'paraded',\n",
       " 'round',\n",
       " 'silverstone',\n",
       " 'circuit',\n",
       " 'setting',\n",
       " 'world',\n",
       " 'record',\n",
       " 'ferrari',\n",
       " 'former',\n",
       " 'ceo',\n",
       " 'chairman',\n",
       " 'luca',\n",
       " 'di',\n",
       " 'montezemolo',\n",
       " 'resigned',\n",
       " 'company',\n",
       " 'years',\n",
       " 'succeeded',\n",
       " 'amedeo',\n",
       " 'felisa',\n",
       " 'finally',\n",
       " 'may',\n",
       " 'amedeo',\n",
       " 'resigned',\n",
       " 'succeeded',\n",
       " 'sergio',\n",
       " 'marchionne',\n",
       " 'ceo',\n",
       " 'chairman',\n",
       " 'fiat',\n",
       " 'chrysler',\n",
       " 'automobiles',\n",
       " 'ferrari',\n",
       " 'parent',\n",
       " 'company',\n",
       " 'july',\n",
       " 'marchionne',\n",
       " 'replaced',\n",
       " 'board',\n",
       " 'member',\n",
       " 'louis',\n",
       " 'camilleri',\n",
       " 'ceo',\n",
       " 'john',\n",
       " 'elkann',\n",
       " 'chairman']"
      ]
     },
     "execution_count": 8,
     "metadata": {},
     "output_type": "execute_result"
    }
   ],
   "source": [
    "from nltk.tokenize import word_tokenize,sent_tokenize\n",
    "tokenizer = nltk.RegexpTokenizer(r\"[a-z,A-Z]+\")\n",
    "new_tokens = tokenizer.tokenize(cleaned_content)\n",
    "new_tokens = [t.lower() for t in new_tokens]\n",
    "new_tokens =[t for t in new_tokens if len(t)!=1]\n",
    "new_tokens =[t for t in new_tokens if t not in stopwords.words(\"english\")]\n",
    "new_tokens"
   ]
  },
  {
   "cell_type": "code",
   "execution_count": 9,
   "metadata": {
    "colab": {
     "base_uri": "https://localhost:8080/"
    },
    "id": "H4JAHLMUXhC7",
    "outputId": "1158e896-07e9-4d63-f74d-ed951bf0849f"
   },
   "outputs": [
    {
     "name": "stdout",
     "output_type": "stream",
     "text": [
      "['ferrari', 'cars', 'scuderia', 'racing']\n",
      "[0.08385744234800839, 0.020964360587002098, 0.016771488469601678, 0.016771488469601678]\n"
     ]
    }
   ],
   "source": [
    "freq=nltk.FreqDist(new_tokens)\n",
    "freq\n",
    "top_words=[]\n",
    "weights=[]\n",
    "for i,j in freq.items():\n",
    "  \n",
    "  if(j>=8):\n",
    "    top_words.append(i)\n",
    "    weights.append(j/len(new_tokens))\n",
    "print(top_words)\n",
    "print(weights)"
   ]
  },
  {
   "cell_type": "code",
   "execution_count": 10,
   "metadata": {
    "colab": {
     "base_uri": "https://localhost:8080/"
    },
    "id": "kfLQOYy3lPxs",
    "outputId": "dd84ed5f-47ac-40aa-e30b-239ee22208ca"
   },
   "outputs": [
    {
     "data": {
      "text/plain": [
       "{'ferrari': 0.08385744234800839,\n",
       " 'cars': 0.020964360587002098,\n",
       " 'scuderia': 0.016771488469601678,\n",
       " 'racing': 0.016771488469601678}"
      ]
     },
     "execution_count": 10,
     "metadata": {},
     "output_type": "execute_result"
    }
   ],
   "source": [
    "weight_values = dict(zip(top_words, weights))\n",
    "weight_values"
   ]
  },
  {
   "cell_type": "code",
   "execution_count": 11,
   "metadata": {
    "colab": {
     "base_uri": "https://localhost:8080/"
    },
    "id": "qw_JcU9DGQnz",
    "outputId": "a1622841-8239-4a6a-b667-3ff92402ecfd"
   },
   "outputs": [
    {
     "data": {
      "text/plain": [
       "37"
      ]
     },
     "execution_count": 11,
     "metadata": {},
     "output_type": "execute_result"
    }
   ],
   "source": [
    "sentences=[]\n",
    "sentences=sent_tokenize(cleaned_content)\n",
    "len(sentences)"
   ]
  },
  {
   "cell_type": "markdown",
   "metadata": {
    "id": "OOq03wfRtxzl"
   },
   "source": [
    "# **WEIGHTED SUMMARY**"
   ]
  },
  {
   "cell_type": "code",
   "execution_count": 12,
   "metadata": {
    "colab": {
     "base_uri": "https://localhost:8080/"
    },
    "id": "x3W7A1gSnNt_",
    "outputId": "6d38c527-beb9-4a46-ffae-5990499730d6",
    "scrolled": true
   },
   "outputs": [
    {
     "data": {
      "text/plain": [
       "{'Enzo Ferrari was not initially interested in the idea of producing road cars when he formed Scuderia Ferrari in 1929 with headquarters in Modena.': 0.020964360587002098,\n",
       " 'quot Ferrari bought citation needed prepared and fielded Alfa Romeo racing cars for gentleman drivers functioning as the racing division of Alfa Romeo.': 0.016771488469601678,\n",
       " 'In 1933 Alfa Romeo withdrew its in house racing team and Scuderia Ferrari took over as its works team 1 the Scuderia received Alfa 39 s Grand Prix cars of the latest specifications and fielded many famous drivers such as Tazio Nuvolari and Achille Varzi.': 0.016771488469601678,\n",
       " 'Road cars quickly became the bulk of Ferrari sales.': 0.020964360587002098,\n",
       " 'The early Ferrari cars typically featured bodywork designed and customised by independent coachbuilders such as Pininfarina Scaglietti Zagato Vignale and Bertone.': 0.020964360587002098,\n",
       " 'The original road cars were typically two seat front engined V12s.': 0.020964360587002098,\n",
       " 'Current road cars typically use V8 or V12 engines with V8 models making up well over half of the marque 39 s total production.': 0.020964360587002098,\n",
       " 'In September 1939 Ferrari left Alfa Romeo under the provision he would not use the Ferrari name in association with races or racing cars for at least four years.': 0.016771488469601678,\n",
       " '18 The Scuderia Ferrari name was resurrected to denote the factory racing cars and distinguish them from those fielded by customer teams.': 0.016771488469601678,\n",
       " 'On 15 September 2012 964 Ferrari cars worth over 162 million 99.95 million attended the Ferrari Driving Days event at Silverstone Circuit and paraded round the Silverstone Circuit setting a world record.': 0.020964360587002098,\n",
       " 'In 1938 Alfa Romeo brought its racing operation again in house forming Alfa Corse in Milan and hired Enzo Ferrari as manager of the new racing department therefore the Scuderia Ferrari was disbanded.': 0.016771488469601678,\n",
       " '1 The first vehicle made with the Ferrari name was the 125 S. Only two of this small two seat sports racing V12 car were made.': 0.016771488469601678}"
      ]
     },
     "execution_count": 12,
     "metadata": {},
     "output_type": "execute_result"
    }
   ],
   "source": [
    "top_Sents={}\n",
    "for i,j in weight_values.items():\n",
    "  current_word=i\n",
    "  for k in sentences:\n",
    "    current_sent=k\n",
    "    if (current_sent.find(current_word) !=-1):\n",
    "      top_Sents[current_sent]=j\n",
    "      \n",
    "top_Sents"
   ]
  },
  {
   "cell_type": "code",
   "execution_count": 13,
   "metadata": {
    "colab": {
     "base_uri": "https://localhost:8080/",
     "height": 140
    },
    "id": "PfnXCA3btGKZ",
    "outputId": "59c2d625-086e-4f4a-ceff-57b88bbd9547"
   },
   "outputs": [
    {
     "data": {
      "application/vnd.google.colaboratory.intrinsic+json": {
       "type": "string"
      },
      "text/plain": [
       "' Enzo Ferrari was not initially interested in the idea of producing road cars when he formed Scuderia Ferrari in 1929 with headquarters in Modena. quot Ferrari bought citation needed prepared and fielded Alfa Romeo racing cars for gentleman drivers functioning as the racing division of Alfa Romeo. In 1933 Alfa Romeo withdrew its in house racing team and Scuderia Ferrari took over as its works team 1 the Scuderia received Alfa 39 s Grand Prix cars of the latest specifications and fielded many famous drivers such as Tazio Nuvolari and Achille Varzi. Road cars quickly became the bulk of Ferrari sales. The early Ferrari cars typically featured bodywork designed and customised by independent coachbuilders such as Pininfarina Scaglietti Zagato Vignale and Bertone. The original road cars were typically two seat front engined V12s. Current road cars typically use V8 or V12 engines with V8 models making up well over half of the marque 39 s total production. In September 1939 Ferrari left Alfa Romeo under the provision he would not use the Ferrari name in association with races or racing cars for at least four years. 18 The Scuderia Ferrari name was resurrected to denote the factory racing cars and distinguish them from those fielded by customer teams. On 15 September 2012 964 Ferrari cars worth over 162 million 99.95 million attended the Ferrari Driving Days event at Silverstone Circuit and paraded round the Silverstone Circuit setting a world record. In 1938 Alfa Romeo brought its racing operation again in house forming Alfa Corse in Milan and hired Enzo Ferrari as manager of the new racing department therefore the Scuderia Ferrari was disbanded. 1 The first vehicle made with the Ferrari name was the 125 S. Only two of this small two seat sports racing V12 car were made.'"
      ]
     },
     "execution_count": 13,
     "metadata": {},
     "output_type": "execute_result"
    }
   ],
   "source": [
    "weighted_sents=[]\n",
    "for i,j in top_Sents.items():\n",
    "  weighted_sents.append(i)\n",
    "\n",
    "weighted_summary=\"\"\n",
    "for i in weighted_sents:\n",
    "  weighted_summary +=\" \"+i\n",
    "weighted_summary"
   ]
  },
  {
   "cell_type": "markdown",
   "metadata": {
    "id": "eezRDpwit8Je"
   },
   "source": [
    "# **UNWEIGHTED SUMMARY**"
   ]
  },
  {
   "cell_type": "code",
   "execution_count": 14,
   "metadata": {
    "colab": {
     "base_uri": "https://localhost:8080/"
    },
    "id": "mLaf_XoMbzkG",
    "outputId": "0a7e3615-dc47-433e-aabb-f1cf80e0319f",
    "scrolled": true
   },
   "outputs": [
    {
     "data": {
      "text/plain": [
       "['Enzo Ferrari was not initially interested in the idea of producing road cars when he formed Scuderia Ferrari in 1929 with headquarters in Modena.',\n",
       " 'quot Ferrari bought citation needed prepared and fielded Alfa Romeo racing cars for gentleman drivers functioning as the racing division of Alfa Romeo.',\n",
       " 'In 1933 Alfa Romeo withdrew its in house racing team and Scuderia Ferrari took over as its works team 1 the Scuderia received Alfa 39 s Grand Prix cars of the latest specifications and fielded many famous drivers such as Tazio Nuvolari and Achille Varzi.',\n",
       " 'Road cars quickly became the bulk of Ferrari sales.',\n",
       " 'The early Ferrari cars typically featured bodywork designed and customised by independent coachbuilders such as Pininfarina Scaglietti Zagato Vignale and Bertone.',\n",
       " 'The original road cars were typically two seat front engined V12s.',\n",
       " 'Current road cars typically use V8 or V12 engines with V8 models making up well over half of the marque 39 s total production.',\n",
       " 'In September 1939 Ferrari left Alfa Romeo under the provision he would not use the Ferrari name in association with races or racing cars for at least four years.',\n",
       " '18 The Scuderia Ferrari name was resurrected to denote the factory racing cars and distinguish them from those fielded by customer teams.',\n",
       " 'On 15 September 2012 964 Ferrari cars worth over 162 million 99.95 million attended the Ferrari Driving Days event at Silverstone Circuit and paraded round the Silverstone Circuit setting a world record.',\n",
       " 'quot Ferrari bought citation needed prepared and fielded Alfa Romeo racing cars for gentleman drivers functioning as the racing division of Alfa Romeo.',\n",
       " 'In 1933 Alfa Romeo withdrew its in house racing team and Scuderia Ferrari took over as its works team 1 the Scuderia received Alfa 39 s Grand Prix cars of the latest specifications and fielded many famous drivers such as Tazio Nuvolari and Achille Varzi.',\n",
       " 'In 1938 Alfa Romeo brought its racing operation again in house forming Alfa Corse in Milan and hired Enzo Ferrari as manager of the new racing department therefore the Scuderia Ferrari was disbanded.',\n",
       " '1 The first vehicle made with the Ferrari name was the 125 S. Only two of this small two seat sports racing V12 car were made.',\n",
       " 'In September 1939 Ferrari left Alfa Romeo under the provision he would not use the Ferrari name in association with races or racing cars for at least four years.',\n",
       " '18 The Scuderia Ferrari name was resurrected to denote the factory racing cars and distinguish them from those fielded by customer teams.']"
      ]
     },
     "execution_count": 14,
     "metadata": {},
     "output_type": "execute_result"
    }
   ],
   "source": [
    "imp_Sents=[]\n",
    "for i in top_words:\n",
    "  current_word=i\n",
    "  for j in sentences:\n",
    "    current_sent=j\n",
    "    if (current_sent.find(current_word) !=-1):\n",
    "      imp_Sents.append(current_sent)\n",
    "      \n",
    "imp_Sents"
   ]
  },
  {
   "cell_type": "code",
   "execution_count": 15,
   "metadata": {
    "colab": {
     "base_uri": "https://localhost:8080/",
     "height": 226
    },
    "id": "nQgLjEzJeuty",
    "outputId": "33e14059-9d1e-4fc2-ee29-55758dc0f6b7"
   },
   "outputs": [
    {
     "data": {
      "application/vnd.google.colaboratory.intrinsic+json": {
       "type": "string"
      },
      "text/plain": [
       "' Enzo Ferrari was not initially interested in the idea of producing road cars when he formed Scuderia Ferrari in 1929 with headquarters in Modena. quot Ferrari bought citation needed prepared and fielded Alfa Romeo racing cars for gentleman drivers functioning as the racing division of Alfa Romeo. In 1933 Alfa Romeo withdrew its in house racing team and Scuderia Ferrari took over as its works team 1 the Scuderia received Alfa 39 s Grand Prix cars of the latest specifications and fielded many famous drivers such as Tazio Nuvolari and Achille Varzi. Road cars quickly became the bulk of Ferrari sales. The early Ferrari cars typically featured bodywork designed and customised by independent coachbuilders such as Pininfarina Scaglietti Zagato Vignale and Bertone. The original road cars were typically two seat front engined V12s. Current road cars typically use V8 or V12 engines with V8 models making up well over half of the marque 39 s total production. In September 1939 Ferrari left Alfa Romeo under the provision he would not use the Ferrari name in association with races or racing cars for at least four years. 18 The Scuderia Ferrari name was resurrected to denote the factory racing cars and distinguish them from those fielded by customer teams. On 15 September 2012 964 Ferrari cars worth over 162 million 99.95 million attended the Ferrari Driving Days event at Silverstone Circuit and paraded round the Silverstone Circuit setting a world record. In 1938 Alfa Romeo brought its racing operation again in house forming Alfa Corse in Milan and hired Enzo Ferrari as manager of the new racing department therefore the Scuderia Ferrari was disbanded. 1 The first vehicle made with the Ferrari name was the 125 S. Only two of this small two seat sports racing V12 car were made.'"
      ]
     },
     "execution_count": 15,
     "metadata": {},
     "output_type": "execute_result"
    }
   ],
   "source": [
    "unique_sents = set()\n",
    "result = []\n",
    "for item in top_Sents:\n",
    "    if item not in unique_sents:\n",
    "        unique_sents.add(item)\n",
    "        result.append(item)\n",
    "        \n",
    "summary=\"\"\n",
    "for i in result:\n",
    "  summary +=\" \"+i\n",
    "summary"
   ]
  },
  {
   "cell_type": "code",
   "execution_count": 17,
   "metadata": {
    "colab": {
     "base_uri": "https://localhost:8080/"
    },
    "id": "-In2WntJgy60",
    "outputId": "201b0e90-c16a-44a2-ff2e-f1481099f2fd"
   },
   "outputs": [
    {
     "data": {
      "text/plain": [
       "890"
      ]
     },
     "execution_count": 17,
     "metadata": {},
     "output_type": "execute_result"
    }
   ],
   "source": [
    "len(word_tokenize(cleaned_content))"
   ]
  },
  {
   "cell_type": "code",
   "execution_count": 16,
   "metadata": {
    "colab": {
     "base_uri": "https://localhost:8080/"
    },
    "id": "AxSlXjRcui0Y",
    "outputId": "3371c2c1-75e5-4867-9a6a-4745850b70c2"
   },
   "outputs": [
    {
     "data": {
      "text/plain": [
       "311"
      ]
     },
     "execution_count": 16,
     "metadata": {},
     "output_type": "execute_result"
    }
   ],
   "source": [
    "len(word_tokenize(weighted_summary))"
   ]
  },
  {
   "cell_type": "code",
   "execution_count": 18,
   "metadata": {
    "colab": {
     "base_uri": "https://localhost:8080/"
    },
    "id": "NhCKzQy6gutK",
    "outputId": "8039b548-1b9f-4dc9-e695-ef3602f77d22"
   },
   "outputs": [
    {
     "data": {
      "text/plain": [
       "311"
      ]
     },
     "execution_count": 18,
     "metadata": {},
     "output_type": "execute_result"
    }
   ],
   "source": [
    "len(word_tokenize(summary))"
   ]
  }
 ],
 "metadata": {
  "colab": {
   "collapsed_sections": [],
   "name": "2148025_CAC1_TEXT_SUMMARIZATION.ipynb",
   "provenance": []
  },
  "kernelspec": {
   "display_name": "Python 3",
   "language": "python",
   "name": "python3"
  },
  "language_info": {
   "codemirror_mode": {
    "name": "ipython",
    "version": 3
   },
   "file_extension": ".py",
   "mimetype": "text/x-python",
   "name": "python",
   "nbconvert_exporter": "python",
   "pygments_lexer": "ipython3",
   "version": "3.8.5"
  }
 },
 "nbformat": 4,
 "nbformat_minor": 4
}
